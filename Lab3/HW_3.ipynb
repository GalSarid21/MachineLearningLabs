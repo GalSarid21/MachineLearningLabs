{
 "cells": [
  {
   "attachments": {},
   "cell_type": "markdown",
   "metadata": {},
   "source": [
    "# Utility Section"
   ]
  },
  {
   "attachments": {},
   "cell_type": "markdown",
   "metadata": {},
   "source": [
    "Imports"
   ]
  },
  {
   "cell_type": "code",
   "execution_count": 1,
   "metadata": {},
   "outputs": [],
   "source": [
    "# Import\n",
    "import pandas as pd\n",
    "import numpy as np\n",
    "import os\n",
    "import matplotlib.pyplot as plt\n",
    "import seaborn as sns\n",
    "from typing import Iterable, Tuple\n",
    "import scipy.special as sps"
   ]
  },
  {
   "attachments": {},
   "cell_type": "markdown",
   "metadata": {},
   "source": [
    "Utils class"
   ]
  },
  {
   "cell_type": "code",
   "execution_count": 35,
   "metadata": {},
   "outputs": [],
   "source": [
    "# Utility class for HW_3\n",
    "class Utils():\n",
    "    \n",
    "    __X = None\n",
    "    __Y = None\n",
    "    \n",
    "    def sigmoid(z: np.ndarray) -> Iterable[float]:\n",
    "        if z is None:\n",
    "            return None\n",
    "        return 1/(1 + np.exp(-z))\n",
    "    \n",
    "    def cost_function(weights: np.ndarray, dataset: pd.DataFrame, use_regularization: bool = False) -> Tuple[float, np.ndarray]:\n",
    "        \"\"\"\n",
    "        Method to calculate Cost Function and new weights for a logistic regression \n",
    "        model with Gradient-Descent [GD] algorithm.\n",
    "\n",
    "        Args:\n",
    "            weights [type: np.array]: initial weights value.\n",
    "            dataset [type: pd.DataFrame]: data set for linear regression.\n",
    "            alpha [type: float]: GD learning rate.\n",
    "\n",
    "        Raises:\n",
    "            1. Exception: Failed to calculate hypothesis for input file.\n",
    "\n",
    "        Returns:\n",
    "            cost, gradient [type: Tuple[float, np.ndarray]]: cost value and gradient update\n",
    "                                                             for a single GD step.\n",
    "        \"\"\"\n",
    "        x = Utils.get_x_vals(dataset)\n",
    "        y = Utils.get_y_vals(dataset, x) \n",
    "        h = Utils.sigmoid(np.dot(Utils.__X, weights))\n",
    "        m = y.shape[0]\n",
    "        cost_1 = sps.xlogy(y, h) # posible to add an epsilon\n",
    "        cost_0 = sps.xlogy(1-y, 1-h) # posible to add an epsilon\n",
    "        if use_regularization:\n",
    "            lambda_num = 0.1\n",
    "            regul = (lambda_num/2*m)*np.sum(weights**2)\n",
    "        cost = -(1/m) * np.sum(cost_1 + cost_0) + regul\n",
    "        gradient = Utils.__gradient(h, x, y)\n",
    "        return float(cost), gradient\n",
    "\n",
    "    def get_init_weights(dataset: pd.DataFrame) -> np.ndarray:\n",
    "        weights = np.zeros((dataset.shape[1], 1))\n",
    "        return weights\n",
    "\n",
    "    def reset_variables() -> None:\n",
    "        Utils.__X = None\n",
    "        Utils.__Y = None\n",
    "\n",
    "    def check_convergence(last_cost: float, new_cost: float, epsilon: float) -> bool:\n",
    "        ascending = new_cost > last_cost\n",
    "        ascending_err_msg = f'Cost function ascending detected!\\n' +\\\n",
    "                            f'New cost: {new_cost}, Last cost: {last_cost}'\n",
    "        #if ascending: raise Exception(ascending_err_msg)\n",
    "        step_change = np.abs(last_cost-new_cost)\n",
    "        is_converge = step_change < epsilon\n",
    "        return is_converge\n",
    "\n",
    "    def get_x_vals(dataset: pd.DataFrame, add_x0: bool=True) -> np.ndarray:\n",
    "        if Utils.__X is None:\n",
    "            x = dataset.iloc[:,:-1]\n",
    "            if add_x0:\n",
    "                ones = np.ones((x.shape[0], 1)) \n",
    "                x = np.concatenate((ones, x), axis=1)\n",
    "            Utils.__X = x\n",
    "        return Utils.__X\n",
    "\n",
    "    def get_y_vals(dataset: pd.DataFrame, x: np.ndarray) -> np.ndarray:\n",
    "        if Utils.__Y is None:\n",
    "            y = np.array(dataset.iloc[:,-1])\n",
    "            y = y.reshape(x.shape[0], 1)\n",
    "            Utils.__Y = y\n",
    "        return Utils.__Y\n",
    "\n",
    "    def __gradient(h: np.ndarray, x: np.ndarray, y: np.ndarray) -> np.ndarray:\n",
    "        m = x.shape[0]\n",
    "        return (1/m) * np.dot(np.transpose(x), h-y)\n",
    "\n",
    "    def mapFeature(dataset: pd.DataFrame, poly_order: int) -> Tuple[np.ndarray, list]:\n",
    "        m = dataset.shape[0]\n",
    "        x1 = dataset.iloc[:,0].values.reshape((m,1))\n",
    "        x2 = dataset.iloc[:,1].values.reshape((m,1))\n",
    "        feature_list = []\n",
    "        feature_column_names = []\n",
    "        \n",
    "        for i in range(1, poly_order+1):\n",
    "            for j in range(i+1):\n",
    "                feature = (x1**(i-j)) * (x2**j)\n",
    "                feature_list.append(feature)\n",
    "                feature_column_names.append(f'x1^{i-j} x2^{j}')\n",
    "                X_feature_list = np.concatenate(feature_list, axis=1)\n",
    "        X_feature_list = np.concatenate((np.ones((m,1)),X_feature_list), axis=1)\n",
    "        return X_feature_list, feature_column_names\n",
    "\n",
    "class LogisticRegressionModel():\n",
    "\n",
    "    def __init__(self, \n",
    "                 dataset: pd.DataFrame,\n",
    "                 use_regularization: bool=True,\n",
    "                 max_iters: int=1000000,\n",
    "                 epsilon: float=1e-7):\n",
    "        self.dataset = dataset\n",
    "        self.use_regularization = use_regularization\n",
    "        self.max_iters = max_iters\n",
    "        self.epsilon = epsilon\n",
    "        self.__gd_weights = None\n",
    "    \n",
    "    def train_model(self, plot_cost_graph:bool) -> None:\n",
    "        Utils.reset_variables()\n",
    "\n",
    "        try:\n",
    "            cost_values = []\n",
    "            weights = Utils.get_init_weights(dataset=self.dataset)\n",
    "            last_cost = np.inf\n",
    "            _, gradient = Utils.cost_function(weights, self.dataset)\n",
    "            weights -= gradient\n",
    "            cost_values.append(last_cost)\n",
    "            new_cost = 0.0\n",
    "            iter = 0\n",
    "\n",
    "            while not Utils.check_convergence(last_cost, new_cost, self.epsilon):\n",
    "                if iter == self.max_iters: \n",
    "                    print(f'Failed to converge with max iters: {self.max_iters}')\n",
    "                    break\n",
    "                if iter > 0:\n",
    "                    last_cost = new_cost\n",
    "                new_cost, gradient = Utils.cost_function(weights, self.dataset)\n",
    "                weights -= gradient\n",
    "                cost_values.append(new_cost)\n",
    "                iter+=1\n",
    "\n",
    "            self.__gd_weights = weights\n",
    "            if plot_cost_graph:\n",
    "                plt.plot(range(0, iter+1), cost_values)\n",
    "                plt.xlabel('Iterations', size=12)\n",
    "                plt.ylabel('J(Θ)', size=12)\n",
    "                plt.title(f'J(Θ) over number of iterations graph', size=18, fontweight=\"bold\")\n",
    "        \n",
    "        except Exception as e:\n",
    "            print(e)\n",
    "\n",
    "    def predict(self, x: np.ndarray, threshold: float=0.5) -> int:\n",
    "        if threshold > 1 or threshold < 0:\n",
    "            raise Exception('Invalid threshold value!')\n",
    "        z = np.dot(x, self.__gd_weights)\n",
    "        preds = Utils.sigmoid(z)\n",
    "        preds_prob = [1 if p >= threshold else 0 for p in preds]\n",
    "        return preds_prob\n",
    "\n",
    "    def accuracy(self, x: np.ndarray, labels: np.ndarray, threshold: float=0.5) -> float:\n",
    "        predictions = self.predict(x, threshold)\n",
    "        res = [1 if p == l else 0 for p, l in zip(predictions, labels)]\n",
    "        acc = np.sum(res) / len(res)\n",
    "        acc_pct = round(acc*100, 2)\n",
    "        return acc_pct\n",
    "\n",
    "    def get_gd_weights(self) -> np.ndarray: \n",
    "        return self.__gd_weights\n",
    "\n",
    "    def scatter_plot_dataset(self) -> None:\n",
    "        ax = sns.scatterplot(data=self.dataset, \n",
    "                            x='Score1', \n",
    "                            y='Score2', \n",
    "                            hue='Binary tagging',\n",
    "                            palette=['red', 'green'])\n",
    "        legend_handles, _ = ax.get_legend_handles_labels()\n",
    "        plt.title('Test Scores To Pass/Fail Course Scatter', size=18,  fontweight='bold')\n",
    "        plt.legend(legend_handles, ['Failed', 'Passed'])\n",
    "\n",
    "    def plot_decision_boundary_2D(self) -> None:\n",
    "        Utils.reset_variables()\n",
    "        x = Utils.get_x_vals(self.dataset, add_x0=False).values\n",
    "        if x is not None:\n",
    "            theta0 = self.__gd_weights[0]\n",
    "            theta1 = self.__gd_weights[1]\n",
    "            theta2 = self.__gd_weights[2]\n",
    "            \n",
    "            x_range = [np.max(x) + 3, np.min(x) - 3]\n",
    "            x2 = [-(theta0 + theta1*x)/theta2 for x in x_range]\n",
    "            plt.plot(x_range, x2, color='blue', label='decision boundary')\n"
   ]
  },
  {
   "attachments": {},
   "cell_type": "markdown",
   "metadata": {},
   "source": [
    "checking the shape of the mapfeature"
   ]
  },
  {
   "cell_type": "code",
   "execution_count": 36,
   "metadata": {},
   "outputs": [
    {
     "name": "stdout",
     "output_type": "stream",
     "text": [
      "(118, 28)\n",
      "(array([[ 1.00000000e+00,  5.12670000e-02,  6.99560000e-01, ...,\n",
      "         6.29470940e-04,  8.58939846e-03,  1.17205992e-01],\n",
      "       [ 1.00000000e+00, -9.27420000e-02,  6.84940000e-01, ...,\n",
      "         1.89305413e-03, -1.39810280e-02,  1.03255971e-01],\n",
      "       [ 1.00000000e+00, -2.13710000e-01,  6.92250000e-01, ...,\n",
      "         1.04882142e-02, -3.39734512e-02,  1.10046893e-01],\n",
      "       ...,\n",
      "       [ 1.00000000e+00, -4.84450000e-01,  9.99270000e-01, ...,\n",
      "         2.34007252e-01, -4.82684337e-01,  9.95627986e-01],\n",
      "       [ 1.00000000e+00, -6.33640000e-03,  9.99270000e-01, ...,\n",
      "         4.00328554e-05, -6.31330588e-03,  9.95627986e-01],\n",
      "       [ 1.00000000e+00,  6.32650000e-01, -3.06120000e-02, ...,\n",
      "         3.51474517e-07, -1.70067777e-08,  8.22905998e-10]]), ['x1^1 x2^0', 'x1^0 x2^1', 'x1^2 x2^0', 'x1^1 x2^1', 'x1^0 x2^2', 'x1^3 x2^0', 'x1^2 x2^1', 'x1^1 x2^2', 'x1^0 x2^3', 'x1^4 x2^0', 'x1^3 x2^1', 'x1^2 x2^2', 'x1^1 x2^3', 'x1^0 x2^4', 'x1^5 x2^0', 'x1^4 x2^1', 'x1^3 x2^2', 'x1^2 x2^3', 'x1^1 x2^4', 'x1^0 x2^5', 'x1^6 x2^0', 'x1^5 x2^1', 'x1^4 x2^2', 'x1^3 x2^3', 'x1^2 x2^4', 'x1^1 x2^5', 'x1^0 x2^6'])\n"
     ]
    }
   ],
   "source": [
    "x,y = Utils.mapFeature(q2_df,6)\n",
    "print(x.shape)\n",
    "print(Utils.mapFeature(q2_df, 6))"
   ]
  },
  {
   "attachments": {},
   "cell_type": "markdown",
   "metadata": {},
   "source": [
    "CSV files loads"
   ]
  },
  {
   "cell_type": "code",
   "execution_count": 3,
   "metadata": {},
   "outputs": [],
   "source": [
    "base_path = os.path.abspath(os.curdir)\n",
    "\n",
    "q1_data_path = f\"{base_path}\\\\ex2data1.txt\"\n",
    "q1_df = pd.read_csv(q1_data_path, sep=',', header=None, names= ['Score1', 'Score2','Binary tagging'])\n",
    "# print(q1_df)\n",
    "\n",
    "q2_data_path = f\"{base_path}\\\\ex2data2.txt\"\n",
    "q2_df = pd.read_csv(q2_data_path, sep=',', header=None, names= ['Score1', 'Score2','Binary tagging']) # ['Check1', 'check2','Binary tagging']\n",
    "# print(q2_df)"
   ]
  },
  {
   "attachments": {},
   "cell_type": "markdown",
   "metadata": {},
   "source": [
    "# Q1: Logistic Regression with two variables"
   ]
  },
  {
   "attachments": {},
   "cell_type": "markdown",
   "metadata": {},
   "source": [
    "Scatter plot of first data file "
   ]
  },
  {
   "cell_type": "code",
   "execution_count": null,
   "metadata": {},
   "outputs": [],
   "source": [
    "single_variable_model = LogisticRegressionModel(\n",
    "    use_regularization=True,\n",
    "    dataset=q1_df,\n",
    "    epsilon=1e-5)\n",
    "single_variable_model.scatter_plot_dataset()"
   ]
  },
  {
   "attachments": {},
   "cell_type": "markdown",
   "metadata": {},
   "source": [
    "Sigmoid graph example"
   ]
  },
  {
   "cell_type": "code",
   "execution_count": null,
   "metadata": {},
   "outputs": [],
   "source": [
    "z = np.linspace(-10,10,100)\n",
    "y = Utils.sigmoid(z)\n",
    "plt.plot(z,y)\n",
    "plt.grid()\n",
    "plt.scatter(0, 0.5, color='red')\n",
    "plt.xlabel('z', size=12)\n",
    "plt.ylabel('sigmoid(z)', size=12)\n",
    "plt.title('Sigmoid Function', size=18,  fontweight='bold')"
   ]
  },
  {
   "attachments": {},
   "cell_type": "markdown",
   "metadata": {},
   "source": [
    "Train Logistic Regression Model for data set #1"
   ]
  },
  {
   "cell_type": "code",
   "execution_count": null,
   "metadata": {},
   "outputs": [],
   "source": [
    "single_variable_model.train_model(plot_cost_graph=True)"
   ]
  },
  {
   "attachments": {},
   "cell_type": "markdown",
   "metadata": {},
   "source": [
    "Plot decition boundary"
   ]
  },
  {
   "cell_type": "code",
   "execution_count": null,
   "metadata": {},
   "outputs": [],
   "source": [
    "single_variable_model.scatter_plot_dataset()\n",
    "single_variable_model.plot_decision_boundary_2D()"
   ]
  },
  {
   "attachments": {},
   "cell_type": "markdown",
   "metadata": {},
   "source": [
    "Model evaluation"
   ]
  },
  {
   "cell_type": "code",
   "execution_count": 8,
   "metadata": {},
   "outputs": [
    {
     "name": "stdout",
     "output_type": "stream",
     "text": [
      "model has accuracy of 73.0%\n"
     ]
    },
    {
     "name": "stderr",
     "output_type": "stream",
     "text": [
      "C:\\Users\\user\\AppData\\Local\\Temp\\ipykernel_15476\\826270794.py:10: RuntimeWarning: overflow encountered in exp\n",
      "  return 1/(1 + np.exp(-z))\n"
     ]
    }
   ],
   "source": [
    "Utils.reset_variables()\n",
    "x = Utils.get_x_vals(q1_df)\n",
    "y = Utils.get_y_vals(q1_df, x)\n",
    "acc = single_variable_model.accuracy(x, y, threshold=0.5)\n",
    "print(f'model has accuracy of {acc}%')"
   ]
  },
  {
   "attachments": {},
   "cell_type": "markdown",
   "metadata": {},
   "source": [
    "New samples plot"
   ]
  },
  {
   "attachments": {},
   "cell_type": "markdown",
   "metadata": {},
   "source": [
    "# Q2: Logistic Regression with regularization"
   ]
  },
  {
   "attachments": {},
   "cell_type": "markdown",
   "metadata": {},
   "source": [
    "Scatter plot of the second data file "
   ]
  },
  {
   "cell_type": "code",
   "execution_count": 25,
   "metadata": {},
   "outputs": [
    {
     "data": {
      "image/png": "[encoded data removed]",
      "text/plain": [
       "<Figure size 640x480 with 1 Axes>"
      ]
     },
     "metadata": {},
     "output_type": "display_data"
    }
   ],
   "source": [
    "single_variable_model = LogisticRegressionModel(\n",
    "    use_regularization=True,\n",
    "    dataset=q2_df,\n",
    "    epsilon=1e-5)\n",
    "single_variable_model.scatter_plot_dataset()"
   ]
  }
 ],
 "metadata": {
  "kernelspec": {
   "display_name": "base",
   "language": "python",
   "name": "python3"
  },
  "language_info": {
   "codemirror_mode": {
    "name": "ipython",
    "version": 3
   },
   "file_extension": ".py",
   "mimetype": "text/x-python",
   "name": "python",
   "nbconvert_exporter": "python",
   "pygments_lexer": "ipython3",
   "version": "3.11.0"
  },
  "orig_nbformat": 4,
  "vscode": {
   "interpreter": {
    "hash": "ca167c2a7abe173bb2b224c5afc40f2206b7e40a9e07b9520a40f85fabb2e071"
   }
  }
 },
 "nbformat": 4,
 "nbformat_minor": 2
}
